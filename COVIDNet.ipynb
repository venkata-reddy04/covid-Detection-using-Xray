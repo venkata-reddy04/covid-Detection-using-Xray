{
  "cells": [
    {
      "cell_type": "markdown",
      "metadata": {
        "id": "-TJJOOlgfUS5"
      },
      "source": [
        "# DATASET EXTRACTION"
      ]
    },
    {
      "cell_type": "markdown",
      "metadata": {
        "id": "a_ZM9zRc_hfZ"
      },
      "source": [
        "## Import datasets and github\n",
        "* Clone chestxray dataset from the github link https://github.com/ieee8023/covid-chestxray-dataset.git\n",
        "\n",
        "* RSNA Pneumonia Detection Challenge dataset\n",
        "https://www.kaggle.com/c/rsna-pneumonia-detection-challenge and unzip rsna_dataset here"
      ]
    },
    {
      "cell_type": "code",
      "execution_count": null,
      "metadata": {
        "colab": {
          "base_uri": "https://localhost:8080/",
          "height": 122
        },
        "id": "Mupjv71A_BZ8",
        "outputId": "49e5eaa3-4889-40a8-e5db-52fcb10f6317"
      },
      "outputs": [
        {
          "name": "stdout",
          "output_type": "stream",
          "text": [
            "Go to this URL in a browser: https://accounts.google.com/o/oauth2/auth?client_id=947318989803-6bn6qk8qdgf4n4g3pfee6491hc0brc4i.apps.googleusercontent.com&redirect_uri=urn%3aietf%3awg%3aoauth%3a2.0%3aoob&scope=email%20https%3a%2f%2fwww.googleapis.com%2fauth%2fdocs.test%20https%3a%2f%2fwww.googleapis.com%2fauth%2fdrive%20https%3a%2f%2fwww.googleapis.com%2fauth%2fdrive.photos.readonly%20https%3a%2f%2fwww.googleapis.com%2fauth%2fpeopleapi.readonly&response_type=code\n",
            "\n",
            "Enter your authorization code:\n",
            "··········\n",
            "Mounted at /content/drive\n"
          ]
        }
      ],
      "source": [
        "from google.colab import drive\n",
        "\n",
        "drive.mount('/content/drive')"
      ]
    },
    {
      "cell_type": "code",
      "execution_count": null,
      "metadata": {
        "colab": {
          "base_uri": "https://localhost:8080/",
          "height": 493
        },
        "id": "kG5w1SXpEutA",
        "outputId": "f0eb9201-b5ff-4a3e-bb91-e99f58eae70d"
      },
      "outputs": [
        {
          "name": "stdout",
          "output_type": "stream",
          "text": [
            "Cloning into 'covid-chestxray-dataset'...\n",
            "remote: Enumerating objects: 3687, done.\u001b[K\n",
            "remote: Total 3687 (delta 0), reused 0 (delta 0), pack-reused 3687\u001b[K\n",
            "Receiving objects: 100% (3687/3687), 715.78 MiB | 29.82 MiB/s, done.\n",
            "Resolving deltas: 100% (1457/1457), done.\n",
            "Checking out files: 100% (1152/1152), done.\n",
            "Cloning into 'Figure1-COVID-chestxray-dataset'...\n",
            "remote: Enumerating objects: 112, done.\u001b[K\n",
            "remote: Counting objects: 100% (112/112), done.\u001b[K\n",
            "remote: Compressing objects: 100% (97/97), done.\u001b[K\n",
            "remote: Total 112 (delta 28), reused 95 (delta 14), pack-reused 0\u001b[K\n",
            "Receiving objects: 100% (112/112), 14.13 MiB | 14.91 MiB/s, done.\n",
            "Resolving deltas: 100% (28/28), done.\n",
            "Cloning into 'Actualmed-COVID-chestxray-dataset'...\n",
            "remote: Enumerating objects: 10, done.\u001b[K\n",
            "remote: Counting objects: 100% (10/10), done.\u001b[K\n",
            "remote: Compressing objects: 100% (9/9), done.\u001b[K\n",
            "remote: Total 422 (delta 1), reused 6 (delta 1), pack-reused 412\u001b[K\n",
            "Receiving objects: 100% (422/422), 1.56 GiB | 29.67 MiB/s, done.\n",
            "Resolving deltas: 100% (16/16), done.\n",
            "Checking out files: 100% (240/240), done.\n",
            "Cloning into 'COVIDNet'...\n",
            "remote: Enumerating objects: 12, done.\u001b[K\n",
            "remote: Counting objects: 100% (12/12), done.\u001b[K\n",
            "remote: Compressing objects: 100% (11/11), done.\u001b[K\n",
            "remote: Total 207 (delta 3), reused 2 (delta 1), pack-reused 195\u001b[K\n",
            "Receiving objects: 100% (207/207), 48.02 MiB | 20.44 MiB/s, done.\n",
            "Resolving deltas: 100% (92/92), done.\n"
          ]
        }
      ],
      "source": [
        "! git clone https://github.com/ieee8023/covid-chestxray-dataset.git\n",
        "! git clone https://github.com/agchung/Figure1-COVID-chestxray-dataset.git\n",
        "! git clone https://github.com/agchung/Actualmed-COVID-chestxray-dataset.git\n",
        "\n",
        "\n",
        "! git clone https://github.com/IliasPap/COVIDNet.git\n",
        "\n",
        "COPY_FILE = True\n",
        "! mkdir /content/rsna_dataset\n",
        "# add code for uploading Kaggle JSON file (individual token)from google.colab import filesfiles.upload()!mkdir -p ~/.kaggle!cp kaggle.json ~/.kaggle/# To prevent permission warning!chmod 600 ~/.kaggle/kaggle.json# Otherwise use kaggle commands, to be updated !!!!\n",
        "# ! kaggle competitions download -c rsna-pneumonia-detection-challenge -p /content/rsna_dataset\n",
        "! unzip -q '/content/drive/My Drive/MEDICAL/rsna-pneumonia-detection-challenge.zip' -d /content/rsna_dataset/\n"
      ]
    },
    {
      "cell_type": "code",
      "execution_count": null,
      "metadata": {
        "id": "WHYcG21mFwbp"
      },
      "outputs": [],
      "source": [
        "! unzip -q '/content/drive/My Drive/MEDICAL/576013_1042828_compressed_COVID-19 Radiography Database.zip' -d '/content/COVID-19-Radiography-Database/'"
      ]
    },
    {
      "cell_type": "code",
      "execution_count": null,
      "metadata": {
        "colab": {
          "base_uri": "https://localhost:8080/",
          "height": 102
        },
        "id": "z5wJrNmlhvjT",
        "outputId": "54f822c4-a705-4490-a379-5788b469a75b"
      },
      "outputs": [
        {
          "name": "stdout",
          "output_type": "stream",
          "text": [
            "Collecting pydicom\n",
            "\u001b[?25l  Downloading https://files.pythonhosted.org/packages/d3/56/342e1f8ce5afe63bf65c23d0b2c1cd5a05600caad1c211c39725d3a4cc56/pydicom-2.0.0-py3-none-any.whl (35.4MB)\n",
            "\u001b[K     |████████████████████████████████| 35.5MB 79kB/s \n",
            "\u001b[?25hInstalling collected packages: pydicom\n",
            "Successfully installed pydicom-2.0.0\n"
          ]
        }
      ],
      "source": [
        "! pip install pydicom\n",
        "import numpy as np\n",
        "import pandas as pd\n",
        "import os\n",
        "import random \n",
        "from shutil import copyfile\n",
        "import pydicom as dicom\n",
        "import cv2"
      ]
    },
    {
      "cell_type": "code",
      "execution_count": null,
      "metadata": {
        "id": "YsX5FSGmDfCW"
      },
      "outputs": [],
      "source": [
        "# set parameters here\n",
        "savepath = 'data'\n",
        "!mkdir 'data/train'\n",
        "!mkdir 'data/test'\n",
        "seed = 0\n",
        "np.random.seed(seed) # Reset the seed so all runs are the same.\n",
        "random.seed(seed)\n",
        "MAXVAL = 255  # Range [0 255]\n",
        "\n",
        "# path to covid-19 dataset from https://github.com/ieee8023/covid-chestxray-dataset\n",
        "cohen_imgpath = './covid-chestxray-dataset/images' \n",
        "cohen_csvpath = './covid-chestxray-dataset/metadata.csv'\n",
        "\n",
        "# path to covid-19 dataset from https://github.com/agchung/Figure1-COVID-chestxray-dataset\n",
        "fig1_imgpath = './Figure1-COVID-chestxray-dataset/images'\n",
        "fig1_csvpath = './Figure1-COVID-chestxray-dataset/metadata.csv'\n",
        "\n",
        "# path to covid-19 dataset from https://github.com/agchung/Actualmed-COVID-chestxray-dataset\n",
        "actmed_imgpath = './Actualmed-COVID-chestxray-dataset/images'\n",
        "actmed_csvpath = './Actualmed-COVID-chestxray-dataset/metadata.csv'\n",
        "\n",
        "# path to covid-19 dataset from https://www.kaggle.com/tawsifurrahman/covid19-radiography-database\n",
        "sirm_imgpath = './COVID-19-Radiography-Database/COVID-19'\n",
        "sirm_csvpath = './COVID-19-Radiography-Database/COVID-19.metadata.xlsx'\n",
        "\n",
        "# path to https://www.kaggle.com/c/rsna-pneumonia-detection-challenge\n",
        "rsna_datapath = './rsna_dataset'\n",
        "# get all the normal from here\n",
        "rsna_csvname = 'stage_2_detailed_class_info.csv' \n",
        "# get all the 1s from here since 1 indicate pneumonia\n",
        "# found that images that aren't pneunmonia and also not normal are classified as 0s\n",
        "rsna_csvname2 = 'stage_2_train_labels.csv' \n",
        "rsna_imgpath = 'stage_2_train_images'\n",
        "\n",
        "# parameters for COVIDx dataset\n",
        "train = []\n",
        "test = []\n",
        "test_count = {'normal': 0, 'pneumonia': 0, 'COVID-19': 0}\n",
        "train_count = {'normal': 0, 'pneumonia': 0, 'COVID-19': 0}\n",
        "\n",
        "mapping = dict()\n",
        "mapping['COVID-19'] = 'COVID-19'\n",
        "mapping['SARS'] = 'pneumonia'\n",
        "mapping['MERS'] = 'pneumonia'\n",
        "mapping['Streptococcus'] = 'pneumonia'\n",
        "mapping['Klebsiella'] = 'pneumonia'\n",
        "mapping['Chlamydophila'] = 'pneumonia'\n",
        "mapping['Legionella'] = 'pneumonia'\n",
        "mapping['Normal'] = 'normal'\n",
        "mapping['Lung Opacity'] = 'pneumonia'\n",
        "mapping['1'] = 'pneumonia'\n",
        "\n",
        "# train/test split\n",
        "split = 0.1\n",
        "\n",
        "# to avoid duplicates\n",
        "patient_imgpath = {}"
      ]
    },
    {
      "cell_type": "markdown",
      "metadata": {
        "id": "U7LeVw8KDpmy"
      },
      "source": [
        ""
      ]
    },
    {
      "cell_type": "code",
      "execution_count": null,
      "metadata": {
        "id": "bvBFCj0jDp61"
      },
      "outputs": [],
      "source": [
        "cohen_csv = pd.read_csv(cohen_csvpath, nrows=None)\n",
        "#idx_pa = csv[\"view\"] == \"PA\"  # Keep only the PA view\n",
        "views = [\"PA\", \"AP\", \"AP Supine\", \"AP semi erect\", \"AP erect\"]\n",
        "cohen_idx_keep = cohen_csv.view.isin(views)\n",
        "cohen_csv = cohen_csv[cohen_idx_keep]\n",
        "\n",
        "fig1_csv = pd.read_csv(fig1_csvpath, encoding='ISO-8859-1', nrows=None)\n",
        "actmed_csv = pd.read_csv(actmed_csvpath, nrows=None)\n",
        "\n",
        "sirm_csv = pd.read_excel(sirm_csvpath)"
      ]
    },
    {
      "cell_type": "code",
      "execution_count": null,
      "metadata": {
        "colab": {
          "base_uri": "https://localhost:8080/",
          "height": 51
        },
        "id": "dWxGkxXYDvOo",
        "outputId": "ad80e3d4-5a59-4b79-b47d-b3a5dead5e6a"
      },
      "outputs": [
        {
          "name": "stdout",
          "output_type": "stream",
          "text": [
            "Data distribution from covid datasets:\n",
            "{'normal': 0, 'pneumonia': 51, 'COVID-19': 607}\n"
          ]
        }
      ],
      "source": [
        "# get non-COVID19 viral, bacteria, and COVID-19 infections from covid-chestxray-dataset, figure1 and actualmed\n",
        "# stored as patient id, image filename and label\n",
        "filename_label = {'normal': [], 'pneumonia': [], 'COVID-19': []}\n",
        "count = {'normal': 0, 'pneumonia': 0, 'COVID-19': 0}\n",
        "covid_ds = {'cohen': [], 'fig1': [], 'actmed': [], 'sirm': []}\n",
        "\n",
        "for index, row in cohen_csv.iterrows():\n",
        "    f = row['finding'].split(',')[0] # take the first finding, for the case of COVID-19, ARDS\n",
        "    if f in mapping: # \n",
        "        count[mapping[f]] += 1\n",
        "        entry = [str(row['patientid']), row['filename'], mapping[f], 'cohen']\n",
        "        filename_label[mapping[f]].append(entry)\n",
        "        if mapping[f] == 'COVID-19':\n",
        "            covid_ds['cohen'].append(str(row['patientid']))\n",
        "        \n",
        "for index, row in fig1_csv.iterrows():\n",
        "    if not str(row['finding']) == 'nan':\n",
        "        f = row['finding'].split(',')[0] # take the first finding\n",
        "        if f in mapping: # \n",
        "            count[mapping[f]] += 1\n",
        "            if os.path.exists(os.path.join(fig1_imgpath, row['patientid'] + '.jpg')):\n",
        "                entry = [row['patientid'], row['patientid'] + '.jpg', mapping[f], 'fig1']\n",
        "            elif os.path.exists(os.path.join(fig1_imgpath, row['patientid'] + '.png')):\n",
        "                entry = [row['patientid'], row['patientid'] + '.png', mapping[f], 'fig1']\n",
        "            filename_label[mapping[f]].append(entry)\n",
        "            if mapping[f] == 'COVID-19':\n",
        "                covid_ds['fig1'].append(row['patientid'])\n",
        "\n",
        "for index, row in actmed_csv.iterrows():\n",
        "    if not str(row['finding']) == 'nan':\n",
        "        f = row['finding'].split(',')[0]\n",
        "        if f in mapping:\n",
        "            count[mapping[f]] += 1\n",
        "            entry = [row['patientid'], row['imagename'], mapping[f], 'actmed']\n",
        "            filename_label[mapping[f]].append(entry)\n",
        "            if mapping[f] == 'COVID-19':\n",
        "                covid_ds['actmed'].append(row['patientid'])\n",
        "    \n",
        "sirm = set(sirm_csv['URL'])\n",
        "cohen = set(cohen_csv['url'])\n",
        "discard = ['100', '101', '102', '103', '104', '105', \n",
        "           '110', '111', '112', '113', '122', '123', \n",
        "           '124', '125', '126', '217']\n",
        "\n",
        "for idx, row in sirm_csv.iterrows():\n",
        "    patientid = row['FILE NAME']\n",
        "    if row['URL'] not in cohen and patientid[patientid.find('(')+1:patientid.find(')')] not in discard:\n",
        "        count[mapping['COVID-19']] += 1\n",
        "        imagename = patientid + '.' + row['FORMAT'].lower()\n",
        "        if not os.path.exists(os.path.join(sirm_imgpath, imagename)):\n",
        "            imagename = patientid.split('(')[0] + ' ('+ patientid.split('(')[1] + '.' + row['FORMAT'].lower()\n",
        "        entry = [patientid, imagename, mapping['COVID-19'], 'sirm']\n",
        "        filename_label[mapping['COVID-19']].append(entry)\n",
        "        covid_ds['sirm'].append(patientid)\n",
        "    \n",
        "print('Data distribution from covid datasets:')\n",
        "print(count)"
      ]
    },
    {
      "cell_type": "code",
      "execution_count": null,
      "metadata": {
        "colab": {
          "base_uri": "https://localhost:8080/",
          "height": 139
        },
        "id": "oGWHn7A9Dz0d",
        "outputId": "2c3b87e4-5db1-407d-83b0-d3ac59267b06"
      },
      "outputs": [
        {
          "name": "stdout",
          "output_type": "stream",
          "text": [
            "Key:  pneumonia\n",
            "Test patients:  ['8', '31']\n",
            "Key:  COVID-19\n",
            "Test patients:  ['19', '20', '36', '42', '86', '94', '97', '117', '132', '138', '144', '150', '163', '169', '174', '175', '179', '190', '191COVID-00024', 'COVID-00025', 'COVID-00026', 'COVID-00027', 'COVID-00029', 'COVID-00030', 'COVID-00032', 'COVID-00033', 'COVID-00035', 'COVID-00036', 'COVID-00037', 'COVID-00038', 'ANON24', 'ANON45', 'ANON126', 'ANON106', 'ANON67', 'ANON153', 'ANON135', 'ANON44', 'ANON29', 'ANON201', 'ANON191', 'ANON234', 'ANON110', 'ANON112', 'ANON73', 'ANON220', 'ANON189', 'ANON30', 'ANON53', 'ANON46', 'ANON218', 'ANON240', 'ANON100', 'ANON237', 'ANON158', 'ANON174', 'ANON19', 'ANON195', 'COVID-19(119)', 'COVID-19(87)', 'COVID-19(70)', 'COVID-19(94)', 'COVID-19(215)', 'COVID-19(77)', 'COVID-19(213)', 'COVID-19(81)', 'COVID-19(216)', 'COVID-19(72)', 'COVID-19(106)', 'COVID-19(131)', 'COVID-19(107)', 'COVID-19(116)', 'COVID-19(95)', 'COVID-19(214)', 'COVID-19(129)']\n",
            "test count:  {'normal': 0, 'pneumonia': 5, 'COVID-19': 100}\n",
            "train count:  {'normal': 0, 'pneumonia': 46, 'COVID-19': 507}\n"
          ]
        }
      ],
      "source": [
        "# add covid-chestxray-dataset, figure1 and actualmed into COVIDx dataset\n",
        "# since these datasets don't have test dataset, split into train/test by patientid\n",
        "# for covid-chestxray-dataset:\n",
        "# patient 8 is used as non-COVID19 viral test\n",
        "# patient 31 is used as bacterial test\n",
        "# patients 19, 20, 36, 42, 86 are used as COVID-19 viral test\n",
        "# for figure 1:\n",
        "# patients 24, 25, 27, 29, 30, 32, 33, 36, 37, 38\n",
        "\n",
        "ds_imgpath = {'cohen': cohen_imgpath, 'fig1': fig1_imgpath, 'actmed': actmed_imgpath, 'sirm': sirm_imgpath}\n",
        "\n",
        "for key in filename_label.keys():\n",
        "    arr = np.array(filename_label[key])\n",
        "    if arr.size == 0:\n",
        "        continue\n",
        "    # split by patients\n",
        "    # num_diff_patients = len(np.unique(arr[:,0]))\n",
        "    # num_test = max(1, round(split*num_diff_patients))\n",
        "    # select num_test number of random patients\n",
        "    # random.sample(list(arr[:,0]), num_test)\n",
        "    if key == 'pneumonia':\n",
        "        test_patients = ['8', '31']\n",
        "    elif key == 'COVID-19':\n",
        "        test_patients = ['19', '20', '36', '42', '86', \n",
        "                         '94', '97', '117', '132', \n",
        "                         '138', '144', '150', '163', '169', '174', '175', '179', '190', '191'\n",
        "                         'COVID-00024', 'COVID-00025', 'COVID-00026', 'COVID-00027', 'COVID-00029',\n",
        "                         'COVID-00030', 'COVID-00032', 'COVID-00033', 'COVID-00035', 'COVID-00036',\n",
        "                         'COVID-00037', 'COVID-00038',\n",
        "                         'ANON24', 'ANON45', 'ANON126', 'ANON106', 'ANON67',\n",
        "                         'ANON153', 'ANON135', 'ANON44', 'ANON29', 'ANON201', \n",
        "                         'ANON191', 'ANON234', 'ANON110', 'ANON112', 'ANON73', \n",
        "                         'ANON220', 'ANON189', 'ANON30', 'ANON53', 'ANON46',\n",
        "                         'ANON218', 'ANON240', 'ANON100', 'ANON237', 'ANON158',\n",
        "                         'ANON174', 'ANON19', 'ANON195',\n",
        "                         'COVID-19(119)', 'COVID-19(87)', 'COVID-19(70)', 'COVID-19(94)', \n",
        "                         'COVID-19(215)', 'COVID-19(77)', 'COVID-19(213)', 'COVID-19(81)', \n",
        "                         'COVID-19(216)', 'COVID-19(72)', 'COVID-19(106)', 'COVID-19(131)', \n",
        "                         'COVID-19(107)', 'COVID-19(116)', 'COVID-19(95)', 'COVID-19(214)', \n",
        "                         'COVID-19(129)']\n",
        "    else: \n",
        "        test_patients = []\n",
        "    print('Key: ', key)\n",
        "    print('Test patients: ', test_patients)\n",
        "    # go through all the patients\n",
        "    for patient in arr:\n",
        "        if patient[0] not in patient_imgpath:\n",
        "            patient_imgpath[patient[0]] = [patient[1]]\n",
        "        else:\n",
        "            if patient[1] not in patient_imgpath[patient[0]]:\n",
        "                patient_imgpath[patient[0]].append(patient[1])\n",
        "            else:\n",
        "                continue  # skip since image has already been written\n",
        "        if patient[0] in test_patients:\n",
        "            if patient[3] == 'sirm':\n",
        "                image = cv2.imread(os.path.join(ds_imgpath[patient[3]], patient[1]))\n",
        "                gray = cv2.cvtColor(image, cv2.COLOR_BGR2GRAY)\n",
        "                patient[1] = patient[1].replace(' ', '')\n",
        "                cv2.imwrite(os.path.join(savepath, 'test', patient[1]), gray)\n",
        "            else:\n",
        "                copyfile(os.path.join(ds_imgpath[patient[3]], patient[1]), os.path.join(savepath, 'test', patient[1]))\n",
        "            test.append(patient)\n",
        "            test_count[patient[2]] += 1\n",
        "        else:\n",
        "            if patient[3] == 'sirm':\n",
        "                image = cv2.imread(os.path.join(ds_imgpath[patient[3]], patient[1]))\n",
        "                gray = cv2.cvtColor(image, cv2.COLOR_BGR2GRAY)\n",
        "                patient[1] = patient[1].replace(' ', '')\n",
        "                cv2.imwrite(os.path.join(savepath, 'train', patient[1]), gray)\n",
        "            else:\n",
        "                copyfile(os.path.join(ds_imgpath[patient[3]], patient[1]), os.path.join(savepath, 'train', patient[1]))\n",
        "            train.append(patient)\n",
        "            train_count[patient[2]] += 1\n",
        "\n",
        "print('test count: ', test_count)\n",
        "print('train count: ', train_count)"
      ]
    },
    {
      "cell_type": "code",
      "execution_count": null,
      "metadata": {
        "colab": {
          "base_uri": "https://localhost:8080/",
          "height": 51
        },
        "id": "iyepYCnPD9Zm",
        "outputId": "46010556-50b7-46d0-f250-abf8d5f6ee27"
      },
      "outputs": [
        {
          "name": "stdout",
          "output_type": "stream",
          "text": [
            "test count:  {'normal': 885, 'pneumonia': 594, 'COVID-19': 100}\n",
            "train count:  {'normal': 7966, 'pneumonia': 5469, 'COVID-19': 507}\n"
          ]
        }
      ],
      "source": [
        "csv_normal = pd.read_csv(os.path.join(rsna_datapath, rsna_csvname), nrows=None)\n",
        "csv_pneu = pd.read_csv(os.path.join(rsna_datapath, rsna_csvname2), nrows=None)\n",
        "patients = {'normal': [], 'pneumonia': []}\n",
        "\n",
        "for index, row in csv_normal.iterrows():\n",
        "    if row['class'] == 'Normal':\n",
        "        patients['normal'].append(row['patientId'])\n",
        "\n",
        "for index, row in csv_pneu.iterrows():\n",
        "    if int(row['Target']) == 1:\n",
        "        patients['pneumonia'].append(row['patientId'])\n",
        "\n",
        "for key in patients.keys():\n",
        "    arr = np.array(patients[key])\n",
        "    if arr.size == 0:\n",
        "        continue\n",
        "    # split by patients \n",
        "    # num_diff_patients = len(np.unique(arr))\n",
        "    # num_test = max(1, round(split*num_diff_patients))\n",
        "    test_patients = np.load('./COVIDNet/rsna_test_patients_{}.npy'.format(key)) # random.sample(list(arr), num_test), download the .npy files from the repo.\n",
        "    # np.save('rsna_test_patients_{}.npy'.format(key), np.array(test_patients))\n",
        "    for patient in arr:\n",
        "        if patient not in patient_imgpath:\n",
        "            patient_imgpath[patient] = [patient]\n",
        "        else:\n",
        "            continue  # skip since image has already been written\n",
        "                \n",
        "        ds = dicom.dcmread(os.path.join(rsna_datapath, rsna_imgpath, patient + '.dcm'))\n",
        "        pixel_array_numpy = ds.pixel_array\n",
        "        imgname = patient + '.png'\n",
        "        if patient in test_patients:\n",
        "            cv2.imwrite(os.path.join(savepath, 'test', imgname), pixel_array_numpy)\n",
        "            test.append([patient, imgname, key, 'rsna'])\n",
        "            test_count[key] += 1\n",
        "        else:\n",
        "            cv2.imwrite(os.path.join(savepath, 'train', imgname), pixel_array_numpy)\n",
        "            train.append([patient, imgname, key, 'rsna'])\n",
        "            train_count[key] += 1\n",
        "\n",
        "print('test count: ', test_count)\n",
        "print('train count: ', train_count)"
      ]
    },
    {
      "cell_type": "code",
      "execution_count": null,
      "metadata": {
        "id": "7YDyXtdHEAic"
      },
      "outputs": [],
      "source": [
        "# final stats\n",
        "print('Final stats')\n",
        "print('Train count: ', train_count)\n",
        "print('Test count: ', test_count)\n",
        "print('Total length of train: ', len(train))\n",
        "print('Total length of test: ', len(test))"
      ]
    },
    {
      "cell_type": "code",
      "execution_count": null,
      "metadata": {
        "id": "C8QngvJ3EDTl"
      },
      "outputs": [],
      "source": [
        "\n",
        "# export to train and test csv\n",
        "# format as patientid, filename, label, separated by a space\n",
        "train_file = open(\"train_split.txt\",'w') \n",
        "for sample in train:\n",
        "    if len(sample) == 4:\n",
        "        info = str(sample[0]) + ' ' + sample[1] + ' ' + sample[2] + ' ' + sample[3] + '\\n'\n",
        "    else:\n",
        "        info = str(sample[0]) + ' ' + sample[1] + ' ' + sample[2] + '\\n'\n",
        "    train_file.write(info)\n",
        "\n",
        "train_file.close()\n",
        "\n",
        "test_file = open(\"test_split.txt\", 'w')\n",
        "for sample in test:\n",
        "    if len(sample) == 4:\n",
        "        info = str(sample[0]) + ' ' + sample[1] + ' ' + sample[2] + ' ' + sample[3] + '\\n'\n",
        "    else:\n",
        "        info = str(sample[0]) + ' ' + sample[1] + ' ' + sample[2] + '\\n'\n",
        "    test_file.write(info)\n",
        "\n",
        "test_file.close()"
      ]
    },
    {
      "cell_type": "markdown",
      "metadata": {
        "id": "K1Z22FipJrgn"
      },
      "source": [
        "# Requirements"
      ]
    },
    {
      "cell_type": "code",
      "execution_count": null,
      "metadata": {
        "id": "QuSxkmuebDuv"
      },
      "outputs": [],
      "source": [
        "! pip install torch torcvision pandas"
      ]
    },
    {
      "cell_type": "markdown",
      "metadata": {
        "id": "kZkurGVMKFPf"
      },
      "source": [
        "# Training"
      ]
    },
    {
      "cell_type": "code",
      "execution_count": null,
      "metadata": {
        "colab": {
          "base_uri": "https://localhost:8080/",
          "height": 1000
        },
        "id": "G9t--VlR7_F6",
        "outputId": "eadc51a7-ec83-4d52-a23a-ced6be945d18"
      },
      "outputs": [
        {
          "name": "stdout",
          "output_type": "stream",
          "text": [
            "[Errno 2] No such file or directory: 'COVIDNet'\n",
            "/content/COVIDNet\n",
            "train examples =  16590\n",
            "test examples =  1953\n",
            "CovidNet(\n",
            "  (conv1): Conv2d(3, 64, kernel_size=(7, 7), stride=(2, 2), padding=(3, 3))\n",
            "  (pepx1_1): PEPX(\n",
            "    (network): Sequential(\n",
            "      (0): Conv2d(64, 32, kernel_size=(1, 1), stride=(1, 1))\n",
            "      (1): Conv2d(32, 48, kernel_size=(1, 1), stride=(1, 1))\n",
            "      (2): Conv2d(48, 48, kernel_size=(3, 3), stride=(1, 1), padding=(1, 1), groups=48)\n",
            "      (3): Conv2d(48, 32, kernel_size=(1, 1), stride=(1, 1))\n",
            "      (4): Conv2d(32, 256, kernel_size=(1, 1), stride=(1, 1))\n",
            "    )\n",
            "  )\n",
            "  (pepx1_2): PEPX(\n",
            "    (network): Sequential(\n",
            "      (0): Conv2d(256, 128, kernel_size=(1, 1), stride=(1, 1))\n",
            "      (1): Conv2d(128, 192, kernel_size=(1, 1), stride=(1, 1))\n",
            "      (2): Conv2d(192, 192, kernel_size=(3, 3), stride=(1, 1), padding=(1, 1), groups=192)\n",
            "      (3): Conv2d(192, 128, kernel_size=(1, 1), stride=(1, 1))\n",
            "      (4): Conv2d(128, 256, kernel_size=(1, 1), stride=(1, 1))\n",
            "    )\n",
            "  )\n",
            "  (pepx1_3): PEPX(\n",
            "    (network): Sequential(\n",
            "      (0): Conv2d(256, 128, kernel_size=(1, 1), stride=(1, 1))\n",
            "      (1): Conv2d(128, 192, kernel_size=(1, 1), stride=(1, 1))\n",
            "      (2): Conv2d(192, 192, kernel_size=(3, 3), stride=(1, 1), padding=(1, 1), groups=192)\n",
            "      (3): Conv2d(192, 128, kernel_size=(1, 1), stride=(1, 1))\n",
            "      (4): Conv2d(128, 256, kernel_size=(1, 1), stride=(1, 1))\n",
            "    )\n",
            "  )\n",
            "  (pepx2_1): PEPX(\n",
            "    (network): Sequential(\n",
            "      (0): Conv2d(256, 128, kernel_size=(1, 1), stride=(1, 1))\n",
            "      (1): Conv2d(128, 192, kernel_size=(1, 1), stride=(1, 1))\n",
            "      (2): Conv2d(192, 192, kernel_size=(3, 3), stride=(1, 1), padding=(1, 1), groups=192)\n",
            "      (3): Conv2d(192, 128, kernel_size=(1, 1), stride=(1, 1))\n",
            "      (4): Conv2d(128, 512, kernel_size=(1, 1), stride=(1, 1))\n",
            "    )\n",
            "  )\n",
            "  (pepx2_2): PEPX(\n",
            "    (network): Sequential(\n",
            "      (0): Conv2d(512, 256, kernel_size=(1, 1), stride=(1, 1))\n",
            "      (1): Conv2d(256, 384, kernel_size=(1, 1), stride=(1, 1))\n",
            "      (2): Conv2d(384, 384, kernel_size=(3, 3), stride=(1, 1), padding=(1, 1), groups=384)\n",
            "      (3): Conv2d(384, 256, kernel_size=(1, 1), stride=(1, 1))\n",
            "      (4): Conv2d(256, 512, kernel_size=(1, 1), stride=(1, 1))\n",
            "    )\n",
            "  )\n",
            "  (pepx2_3): PEPX(\n",
            "    (network): Sequential(\n",
            "      (0): Conv2d(512, 256, kernel_size=(1, 1), stride=(1, 1))\n",
            "      (1): Conv2d(256, 384, kernel_size=(1, 1), stride=(1, 1))\n",
            "      (2): Conv2d(384, 384, kernel_size=(3, 3), stride=(1, 1), padding=(1, 1), groups=384)\n",
            "      (3): Conv2d(384, 256, kernel_size=(1, 1), stride=(1, 1))\n",
            "      (4): Conv2d(256, 512, kernel_size=(1, 1), stride=(1, 1))\n",
            "    )\n",
            "  )\n",
            "  (pepx2_4): PEPX(\n",
            "    (network): Sequential(\n",
            "      (0): Conv2d(512, 256, kernel_size=(1, 1), stride=(1, 1))\n",
            "      (1): Conv2d(256, 384, kernel_size=(1, 1), stride=(1, 1))\n",
            "      (2): Conv2d(384, 384, kernel_size=(3, 3), stride=(1, 1), padding=(1, 1), groups=384)\n",
            "      (3): Conv2d(384, 256, kernel_size=(1, 1), stride=(1, 1))\n",
            "      (4): Conv2d(256, 512, kernel_size=(1, 1), stride=(1, 1))\n",
            "    )\n",
            "  )\n",
            "  (pepx3_1): PEPX(\n",
            "    (network): Sequential(\n",
            "      (0): Conv2d(512, 256, kernel_size=(1, 1), stride=(1, 1))\n",
            "      (1): Conv2d(256, 384, kernel_size=(1, 1), stride=(1, 1))\n",
            "      (2): Conv2d(384, 384, kernel_size=(3, 3), stride=(1, 1), padding=(1, 1), groups=384)\n",
            "      (3): Conv2d(384, 256, kernel_size=(1, 1), stride=(1, 1))\n",
            "      (4): Conv2d(256, 1024, kernel_size=(1, 1), stride=(1, 1))\n",
            "    )\n",
            "  )\n",
            "  (pepx3_2): PEPX(\n",
            "    (network): Sequential(\n",
            "      (0): Conv2d(1024, 512, kernel_size=(1, 1), stride=(1, 1))\n",
            "      (1): Conv2d(512, 768, kernel_size=(1, 1), stride=(1, 1))\n",
            "      (2): Conv2d(768, 768, kernel_size=(3, 3), stride=(1, 1), padding=(1, 1), groups=768)\n",
            "      (3): Conv2d(768, 512, kernel_size=(1, 1), stride=(1, 1))\n",
            "      (4): Conv2d(512, 1024, kernel_size=(1, 1), stride=(1, 1))\n",
            "    )\n",
            "  )\n",
            "  (pepx3_3): PEPX(\n",
            "    (network): Sequential(\n",
            "      (0): Conv2d(1024, 512, kernel_size=(1, 1), stride=(1, 1))\n",
            "      (1): Conv2d(512, 768, kernel_size=(1, 1), stride=(1, 1))\n",
            "      (2): Conv2d(768, 768, kernel_size=(3, 3), stride=(1, 1), padding=(1, 1), groups=768)\n",
            "      (3): Conv2d(768, 512, kernel_size=(1, 1), stride=(1, 1))\n",
            "      (4): Conv2d(512, 1024, kernel_size=(1, 1), stride=(1, 1))\n",
            "    )\n",
            "  )\n",
            "  (pepx3_4): PEPX(\n",
            "    (network): Sequential(\n",
            "      (0): Conv2d(1024, 512, kernel_size=(1, 1), stride=(1, 1))\n",
            "      (1): Conv2d(512, 768, kernel_size=(1, 1), stride=(1, 1))\n",
            "      (2): Conv2d(768, 768, kernel_size=(3, 3), stride=(1, 1), padding=(1, 1), groups=768)\n",
            "      (3): Conv2d(768, 512, kernel_size=(1, 1), stride=(1, 1))\n",
            "      (4): Conv2d(512, 1024, kernel_size=(1, 1), stride=(1, 1))\n",
            "    )\n",
            "  )\n",
            "  (pepx3_5): PEPX(\n",
            "    (network): Sequential(\n",
            "      (0): Conv2d(1024, 512, kernel_size=(1, 1), stride=(1, 1))\n",
            "      (1): Conv2d(512, 768, kernel_size=(1, 1), stride=(1, 1))\n",
            "      (2): Conv2d(768, 768, kernel_size=(3, 3), stride=(1, 1), padding=(1, 1), groups=768)\n",
            "      (3): Conv2d(768, 512, kernel_size=(1, 1), stride=(1, 1))\n",
            "      (4): Conv2d(512, 1024, kernel_size=(1, 1), stride=(1, 1))\n",
            "    )\n",
            "  )\n",
            "  (pepx3_6): PEPX(\n",
            "    (network): Sequential(\n",
            "      (0): Conv2d(1024, 512, kernel_size=(1, 1), stride=(1, 1))\n",
            "      (1): Conv2d(512, 768, kernel_size=(1, 1), stride=(1, 1))\n",
            "      (2): Conv2d(768, 768, kernel_size=(3, 3), stride=(1, 1), padding=(1, 1), groups=768)\n",
            "      (3): Conv2d(768, 512, kernel_size=(1, 1), stride=(1, 1))\n",
            "      (4): Conv2d(512, 1024, kernel_size=(1, 1), stride=(1, 1))\n",
            "    )\n",
            "  )\n",
            "  (pepx4_1): PEPX(\n",
            "    (network): Sequential(\n",
            "      (0): Conv2d(1024, 512, kernel_size=(1, 1), stride=(1, 1))\n",
            "      (1): Conv2d(512, 768, kernel_size=(1, 1), stride=(1, 1))\n",
            "      (2): Conv2d(768, 768, kernel_size=(3, 3), stride=(1, 1), padding=(1, 1), groups=768)\n",
            "      (3): Conv2d(768, 512, kernel_size=(1, 1), stride=(1, 1))\n",
            "      (4): Conv2d(512, 2048, kernel_size=(1, 1), stride=(1, 1))\n",
            "    )\n",
            "  )\n",
            "  (pepx4_2): PEPX(\n",
            "    (network): Sequential(\n",
            "      (0): Conv2d(2048, 1024, kernel_size=(1, 1), stride=(1, 1))\n",
            "      (1): Conv2d(1024, 1536, kernel_size=(1, 1), stride=(1, 1))\n",
            "      (2): Conv2d(1536, 1536, kernel_size=(3, 3), stride=(1, 1), padding=(1, 1), groups=1536)\n",
            "      (3): Conv2d(1536, 1024, kernel_size=(1, 1), stride=(1, 1))\n",
            "      (4): Conv2d(1024, 2048, kernel_size=(1, 1), stride=(1, 1))\n",
            "    )\n",
            "  )\n",
            "  (pepx4_3): PEPX(\n",
            "    (network): Sequential(\n",
            "      (0): Conv2d(2048, 1024, kernel_size=(1, 1), stride=(1, 1))\n",
            "      (1): Conv2d(1024, 1536, kernel_size=(1, 1), stride=(1, 1))\n",
            "      (2): Conv2d(1536, 1536, kernel_size=(3, 3), stride=(1, 1), padding=(1, 1), groups=1536)\n",
            "      (3): Conv2d(1536, 1024, kernel_size=(1, 1), stride=(1, 1))\n",
            "      (4): Conv2d(1024, 2048, kernel_size=(1, 1), stride=(1, 1))\n",
            "    )\n",
            "  )\n",
            "  (conv1_1x1): Conv2d(64, 256, kernel_size=(1, 1), stride=(1, 1))\n",
            "  (conv2_1x1): Conv2d(256, 512, kernel_size=(1, 1), stride=(1, 1))\n",
            "  (conv3_1x1): Conv2d(512, 1024, kernel_size=(1, 1), stride=(1, 1))\n",
            "  (conv4_1x1): Conv2d(1024, 2048, kernel_size=(1, 1), stride=(1, 1))\n",
            "  (flatten): Flatten()\n",
            "  (fc1): Linear(in_features=100352, out_features=1024, bias=True)\n",
            "  (fc2): Linear(in_features=1024, out_features=256, bias=True)\n",
            "  (classifier): Linear(in_features=256, out_features=3, bias=True)\n",
            ")\n",
            "Checkpoint folder  /saved/COVIDNet20200424_0747\n",
            "2020-04-24 07:47:25.223194: I tensorflow/stream_executor/platform/default/dso_loader.cc:44] Successfully opened dynamic library libcudart.so.10.1\n",
            "('loss', 'correct', 'total', 'accuracy')\n",
            "Epoch: 1\tSample:    1/16592\tLoss:1.1249\tAccuracy:0.00\n",
            "Traceback (most recent call last):\n",
            "  File \"main.py\", line 72, in <module>\n",
            "    main()\n",
            "  File \"main.py\", line 33, in main\n",
            "    train(args, model, training_generator, optimizer, epoch, writer)\n",
            "  File \"/content/COVIDNet/trainer/train.py\", line 97, in train\n",
            "    loss.backward()\n",
            "  File \"/usr/local/lib/python3.6/dist-packages/torch/tensor.py\", line 195, in backward\n",
            "    torch.autograd.backward(self, gradient, retain_graph, create_graph)\n",
            "  File \"/usr/local/lib/python3.6/dist-packages/torch/autograd/__init__.py\", line 99, in backward\n",
            "    allow_unreachable=True)  # allow_unreachable flag\n",
            "KeyboardInterrupt\n"
          ]
        }
      ],
      "source": [
        "%cd COVIDNet\n",
        "! python main.py --dataset_name='COVIDx' --root_path='/content/covid-chestxray-dataset/data'"
      ]
    }
  ],
  "metadata": {
    "accelerator": "GPU",
    "colab": {
      "collapsed_sections": [],
      "name": "COVIDNet.ipynb",
      "provenance": [],
      "toc_visible": true
    },
    "kernelspec": {
      "display_name": "Python 3",
      "language": "python",
      "name": "python3"
    },
    "language_info": {
      "codemirror_mode": {
        "name": "ipython",
        "version": 3
      },
      "file_extension": ".py",
      "mimetype": "text/x-python",
      "name": "python",
      "nbconvert_exporter": "python",
      "pygments_lexer": "ipython3",
      "version": "3.6.9"
    }
  },
  "nbformat": 4,
  "nbformat_minor": 0
}